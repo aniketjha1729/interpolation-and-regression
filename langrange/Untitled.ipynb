{
 "cells": [
  {
   "cell_type": "code",
   "execution_count": 1,
   "metadata": {},
   "outputs": [],
   "source": [
    "import numpy as np\n",
    "import pandas as pd"
   ]
  },
  {
   "cell_type": "code",
   "execution_count": 2,
   "metadata": {},
   "outputs": [],
   "source": [
    "df=pd.read_excel(r'langrange.xls')\n",
    "n=4489\n",
    "a=np.array(df)"
   ]
  },
  {
   "cell_type": "code",
   "execution_count": 3,
   "metadata": {},
   "outputs": [
    {
     "data": {
      "text/plain": [
       "array([[-0.11      ,  0.1       ,  0.74870819, ...,  0.22      ,\n",
       "         0.58      ,  1.47898651],\n",
       "       [-0.14      , -0.71      ,  0.7589856 , ...,  0.05      ,\n",
       "         0.55      , -0.09187378],\n",
       "       [-0.02      , -0.48      ,  0.7589856 , ..., -0.11      ,\n",
       "         0.23      , -0.09187378],\n",
       "       ...,\n",
       "       [-0.68      , -0.19      ,  1.91182831, ..., -0.35      ,\n",
       "        -0.22      ,  1.31794647],\n",
       "       [-0.37      , -0.48      ,  1.78191193, ..., -0.11      ,\n",
       "        -0.2       ,  0.70319611],\n",
       "       [        nan,         nan,  1.49444153, ...,         nan,\n",
       "                nan,  0.45343567]])"
      ]
     },
     "execution_count": 3,
     "metadata": {},
     "output_type": "execute_result"
    }
   ],
   "source": []
  },
  {
   "cell_type": "code",
   "execution_count": null,
   "metadata": {},
   "outputs": [],
   "source": []
  }
 ],
 "metadata": {
  "kernelspec": {
   "display_name": "Python 3",
   "language": "python",
   "name": "python3"
  },
  "language_info": {
   "codemirror_mode": {
    "name": "ipython",
    "version": 3
   },
   "file_extension": ".py",
   "mimetype": "text/x-python",
   "name": "python",
   "nbconvert_exporter": "python",
   "pygments_lexer": "ipython3",
   "version": "3.6.5"
  }
 },
 "nbformat": 4,
 "nbformat_minor": 2
}
