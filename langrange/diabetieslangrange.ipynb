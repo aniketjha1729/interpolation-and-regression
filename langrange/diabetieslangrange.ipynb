{
 "cells": [
  {
   "cell_type": "code",
   "execution_count": 1,
   "metadata": {},
   "outputs": [],
   "source": [
    "import numpy as np\n",
    "import pandas as pd\n",
    "import datetime"
   ]
  },
  {
   "cell_type": "code",
   "execution_count": 22,
   "metadata": {},
   "outputs": [
    {
     "name": "stdout",
     "output_type": "stream",
     "text": [
      "00:58:48.91460300:58:48.93957400:58:48.96254000:58:48.98475600:58:49.00672500:58:49.03070800:58:49.05564600:58:49.07693000:58:49.09953300:58:49.12580800:58:49.15302000:58:49.17504400:58:49.19914900:58:49.25080700:58:49.27641200:58:49.29894600:58:49.32078200:58:49.35612900:58:49.38339000:58:49.40579300:58:49.43643800:58:49.46257800:58:49.48960000:58:49.51862800:58:49.55300200:58:49.58313000:58:49.61241900:58:49.63747700:58:49.66211700:58:49.68645100:58:49.71180100:58:49.73642300:58:49.76174100:58:49.78766600:58:49.81740500:58:49.84503300:58:49.86628300:58:49.88921600:58:49.94143600:58:49.96469000:58:49.98615400:58:50.01739200:58:50.04178300:58:50.06888200:58:50.09425400:58:50.12250500:58:50.14666700:58:50.17090400:58:50.19251900:58:50.21434400:58:50.24394600:58:50.26864800:58:50.28953500:58:50.31102800:58:50.33599400:58:50.35876300:58:50.38091800:58:50.40244700:58:50.426444"
     ]
    }
   ],
   "source": [
    "n=10\n",
    "for l in range(1,60):\n",
    "    df=pd.read_excel(r'daibeties58.xlsx')\n",
    "    a=np.array(df)\n",
    "    xlist=list(range(0,20,2))\n",
    "    ylist=a[l,0::2]\n",
    "#xlist    \n",
    "    x=np.array(xlist).reshape(10,1)\n",
    "    y=np.array(ylist).reshape(10,1)\n",
    "    b=[]\n",
    "    value=[0,1,3,5,7,9,11,13,15,17,19]\n",
    "    for k in value:\n",
    "        result=0\n",
    "        for i in range(n):\n",
    "            term=y[i]\n",
    "            for j in range(n):\n",
    "                if(j!=i):\n",
    "                    term=term*(k-x[j])/(x[i]-x[j])\n",
    "            result=result+term\n",
    "        b.append(result)\n",
    "    s=np.array(b).reshape(1,11)\n",
    "    df = pd.DataFrame(s)\n",
    "    mod=pd.read_csv(r'li3.csv')\n",
    "    with open('li3.csv', 'a') as f:\n",
    "             (df).to_csv(f, header=False)\n",
    "    print(datetime.datetime.time(datetime.datetime.now()),end='')"
   ]
  },
  {
   "cell_type": "code",
   "execution_count": null,
   "metadata": {},
   "outputs": [],
   "source": []
  }
 ],
 "metadata": {
  "kernelspec": {
   "display_name": "Python 3",
   "language": "python",
   "name": "python3"
  },
  "language_info": {
   "codemirror_mode": {
    "name": "ipython",
    "version": 3
   },
   "file_extension": ".py",
   "mimetype": "text/x-python",
   "name": "python",
   "nbconvert_exporter": "python",
   "pygments_lexer": "ipython3",
   "version": "3.6.5"
  }
 },
 "nbformat": 4,
 "nbformat_minor": 2
}
