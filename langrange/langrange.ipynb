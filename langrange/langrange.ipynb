{
 "cells": [
  {
   "cell_type": "code",
   "execution_count": 2,
   "metadata": {},
   "outputs": [],
   "source": [
    "import numpy as np\n",
    "import pandas as pd\n",
    "import datetime"
   ]
  },
  {
   "cell_type": "code",
   "execution_count": 6,
   "metadata": {},
   "outputs": [
    {
     "name": "stdout",
     "output_type": "stream",
     "text": [
      "[[-0.11]\n",
      " [ 0.01]\n",
      " [ 0.04]\n",
      " [ 0.04]\n",
      " [-0.22]\n",
      " [ 0.12]\n",
      " [-0.26]\n",
      " [ 0.22]\n",
      " [-0.36]]\n"
     ]
    }
   ],
   "source": [
    "n=9\n",
    "for l in range(1):\n",
    "    df=pd.read_excel(r'cho_data.xlsx')\n",
    "    a=np.array(df)\n",
    "    xlist=list(range(0,120,14))\n",
    "    ylist=a[l,0::2]\n",
    "    x=np.array(xlist).reshape(9,1)\n",
    "    y=np.array(ylist).reshape(9,1)\n",
    "    print(y)\n",
    "    b=[]\n",
    "    value=[0,7,21,35,49,63,77,91,105]\n",
    "    for k in value:\n",
    "        result=0\n",
    "        for i in range(n):\n",
    "            term=y[i]\n",
    "            for j in range(n):\n",
    "                if(j!=i):\n",
    "                    term=term*(k-x[j])/(x[i]-x[j])\n",
    "            result=result+term\n",
    "        b.append(result)\n",
    "    s=np.array(b).reshape(1,9)\n",
    "    df = pd.DataFrame(s)\n",
    "    mod=pd.read_csv(r'li3.csv')\n",
    "    with open('li3.csv', 'a') as f:\n",
    "             (df).to_csv(f, header=False)\n",
    "    print(datetime.datetime.time(datetime.datetime.now()),end='')"
   ]
  },
  {
   "cell_type": "code",
   "execution_count": null,
   "metadata": {},
   "outputs": [],
   "source": []
  }
 ],
 "metadata": {
  "kernelspec": {
   "display_name": "Python 3",
   "language": "python",
   "name": "python3"
  },
  "language_info": {
   "codemirror_mode": {
    "name": "ipython",
    "version": 3
   },
   "file_extension": ".py",
   "mimetype": "text/x-python",
   "name": "python",
   "nbconvert_exporter": "python",
   "pygments_lexer": "ipython3",
   "version": "3.6.5"
  }
 },
 "nbformat": 4,
 "nbformat_minor": 2
}
