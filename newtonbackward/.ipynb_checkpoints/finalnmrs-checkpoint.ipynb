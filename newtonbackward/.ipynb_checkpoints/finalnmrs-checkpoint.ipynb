{
 "cells": [
  {
   "cell_type": "code",
   "execution_count": 1,
   "metadata": {},
   "outputs": [],
   "source": [
    "import numpy as np\n",
    "import pandas as pd"
   ]
  },
  {
   "cell_type": "code",
   "execution_count": 3,
   "metadata": {},
   "outputs": [],
   "source": [
    "df=pd.read_excel(r'newtonbackward2steps.xls')\n",
    "n=4489\n",
    "a=np.array(df)"
   ]
  },
  {
   "cell_type": "code",
   "execution_count": 33,
   "metadata": {},
   "outputs": [
    {
     "data": {
      "text/plain": [
       "array([ 0.37555556,  0.24802469, -0.01617284, ..., -0.19777778,\n",
       "       -0.18728395, -0.05592593])"
      ]
     },
     "execution_count": 33,
     "metadata": {},
     "output_type": "execute_result"
    }
   ],
   "source": [
    "x=a[0:4489,23]\n",
    "y=a[0:4489,24]\n",
    "#z=a[0:4489,24]\n",
    "y"
   ]
  },
  {
   "cell_type": "code",
   "execution_count": 34,
   "metadata": {},
   "outputs": [
    {
     "name": "stdout",
     "output_type": "stream",
     "text": [
      "0.08836963856001079\n"
     ]
    }
   ],
   "source": [
    "ans=[]\n",
    "sum=0\n",
    "for i in range(n):\n",
    "    diff=x[i]-y[i]\n",
    "    diffsq=diff**2\n",
    "    sum=sum+diffsq\n",
    "mean_diffsq=sum/n\n",
    "rmsd=mean_diffsq**(.5)\n",
    "nrmsd=rmsd/(max(y)-min(y))\n",
    "print(nrmsd)"
   ]
  },
  {
   "cell_type": "code",
   "execution_count": null,
   "metadata": {},
   "outputs": [],
   "source": []
  },
  {
   "cell_type": "code",
   "execution_count": null,
   "metadata": {},
   "outputs": [],
   "source": []
  },
  {
   "cell_type": "code",
   "execution_count": null,
   "metadata": {},
   "outputs": [],
   "source": []
  }
 ],
 "metadata": {
  "kernelspec": {
   "display_name": "Python 3",
   "language": "python",
   "name": "python3"
  },
  "language_info": {
   "codemirror_mode": {
    "name": "ipython",
    "version": 3
   },
   "file_extension": ".py",
   "mimetype": "text/x-python",
   "name": "python",
   "nbconvert_exporter": "python",
   "pygments_lexer": "ipython3",
   "version": "3.6.5"
  }
 },
 "nbformat": 4,
 "nbformat_minor": 2
}
