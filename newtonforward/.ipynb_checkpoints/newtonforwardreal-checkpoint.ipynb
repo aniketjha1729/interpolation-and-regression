{
 "cells": [
  {
   "cell_type": "code",
   "execution_count": 4,
   "metadata": {},
   "outputs": [],
   "source": [
    "import numpy as np\n",
    "import pandas as pd\n",
    "import datetime"
   ]
  },
  {
   "cell_type": "code",
   "execution_count": 7,
   "metadata": {},
   "outputs": [],
   "source": [
    "def u_call(u,n):\n",
    "    temp=u\n",
    "    for i in range(1,n):\n",
    "        temp=temp*(u-i)\n",
    "    return temp\n",
    "def fact(n):\n",
    "    f=1\n",
    "    for i in range(2,n+1):\n",
    "        f=f*i\n",
    "    return f\n",
    "n=9   "
   ]
  },
  {
   "cell_type": "code",
   "execution_count": 11,
   "metadata": {},
   "outputs": [
    {
     "data": {
      "text/plain": [
       "array([[0., 0., 0., 0., 0., 0., 0., 0., 0.],\n",
       "       [0., 0., 0., 0., 0., 0., 0., 0., 0.],\n",
       "       [0., 0., 0., 0., 0., 0., 0., 0., 0.],\n",
       "       [0., 0., 0., 0., 0., 0., 0., 0., 0.],\n",
       "       [0., 0., 0., 0., 0., 0., 0., 0., 0.],\n",
       "       [0., 0., 0., 0., 0., 0., 0., 0., 0.],\n",
       "       [0., 0., 0., 0., 0., 0., 0., 0., 0.],\n",
       "       [0., 0., 0., 0., 0., 0., 0., 0., 0.],\n",
       "       [0., 0., 0., 0., 0., 0., 0., 0., 0.]])"
      ]
     },
     "execution_count": 11,
     "metadata": {},
     "output_type": "execute_result"
    }
   ],
   "source": [
    "for l in range(4000,4100):\n",
    "    df=pd.read_excel(r'cho_data.xlsx')\n",
    "    a=np.array(df)\n",
    "    xlist=list(range(0,120,14))\n",
    "    xlist\n",
    "    ylist=a[l,0::2]\n",
    "    x=np.array(xlist)\n",
    "    y=np.array(ylist)\n",
    "    y_mat=np.zeros((n,n),dtype=float)\n",
    "    for i in range(n):\n",
    "        y_mat[i][0]=float(y[i])\n",
    "\n",
    "    for i in range(1,n):\n",
    "        for j in range(n-i):\n",
    "            y_mat[j][i]=y_mat[j+1][i-1]-y_mat[j][i-1]\n",
    "\n",
    "\n",
    "    #lets consider that we want to know the value of x for y=32\n",
    "    b=[]\n",
    "    value=[0,7,21,35,49,63,77,91,105]\n",
    "    for i in value:\n",
    "        sum=y_mat[0][0]\n",
    "        u=(value-x[0])/(x[1]-x[0])\n",
    "        for i in range(1,n):\n",
    "            sum=sum+(u_call(u,i)*y_mat[0][i])/fact(i)\n",
    "    b.append(sum)\n",
    "    df = pd.DataFrame(b)\n",
    "    mod=pd.read_csv(r'li3.csv')\n",
    "    with open('li3.csv', 'a') as f:\n",
    "             (df).to_csv(f, header=False)\n",
    "    print(datetime.datetime.time(datetime.datetime.now()),end='')"
   ]
  },
  {
   "cell_type": "code",
   "execution_count": null,
   "metadata": {},
   "outputs": [],
   "source": []
  }
 ],
 "metadata": {
  "kernelspec": {
   "display_name": "Python 3",
   "language": "python",
   "name": "python3"
  },
  "language_info": {
   "codemirror_mode": {
    "name": "ipython",
    "version": 3
   },
   "file_extension": ".py",
   "mimetype": "text/x-python",
   "name": "python",
   "nbconvert_exporter": "python",
   "pygments_lexer": "ipython3",
   "version": "3.6.5"
  }
 },
 "nbformat": 4,
 "nbformat_minor": 2
}
