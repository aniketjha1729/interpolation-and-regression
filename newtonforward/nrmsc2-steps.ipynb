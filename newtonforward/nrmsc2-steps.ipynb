{
 "cells": [
  {
   "cell_type": "code",
   "execution_count": 6,
   "metadata": {},
   "outputs": [],
   "source": [
    "import numpy as np\n",
    "import pandas as pd"
   ]
  },
  {
   "cell_type": "code",
   "execution_count": 29,
   "metadata": {},
   "outputs": [],
   "source": [
    "df=pd.read_excel(r'newtonforward3.xls')\n",
    "n=1383\n",
    "a=np.array(df)"
   ]
  },
  {
   "cell_type": "code",
   "execution_count": 46,
   "metadata": {},
   "outputs": [
    {
     "data": {
      "text/plain": [
       "array([-2.05893555, -2.98136902,  0.17080109, ..., -0.77613129,\n",
       "       -0.80029449, -0.09953583])"
      ]
     },
     "execution_count": 46,
     "metadata": {},
     "output_type": "execute_result"
    }
   ],
   "source": [
    "x=a[0:1383,22]\n",
    "y=a[0:1383,23]\n",
    "y"
   ]
  },
  {
   "cell_type": "code",
   "execution_count": 47,
   "metadata": {},
   "outputs": [
    {
     "name": "stdout",
     "output_type": "stream",
     "text": [
      "0.10750102380864485\n"
     ]
    }
   ],
   "source": [
    "ans=[]\n",
    "sum=0\n",
    "for i in range(n):\n",
    "    diff=x[i]-y[i]\n",
    "    diffsq=diff**2\n",
    "    sum=sum+diffsq\n",
    "mean_diffsq=sum/n\n",
    "rmsd=mean_diffsq**(.5)\n",
    "nrmsd=rmsd/(max(y)-min(y))\n",
    "print(nrmsd)"
   ]
  },
  {
   "cell_type": "code",
   "execution_count": null,
   "metadata": {},
   "outputs": [],
   "source": []
  }
 ],
 "metadata": {
  "kernelspec": {
   "display_name": "Python 3",
   "language": "python",
   "name": "python3"
  },
  "language_info": {
   "codemirror_mode": {
    "name": "ipython",
    "version": 3
   },
   "file_extension": ".py",
   "mimetype": "text/x-python",
   "name": "python",
   "nbconvert_exporter": "python",
   "pygments_lexer": "ipython3",
   "version": "3.6.5"
  }
 },
 "nbformat": 4,
 "nbformat_minor": 2
}
