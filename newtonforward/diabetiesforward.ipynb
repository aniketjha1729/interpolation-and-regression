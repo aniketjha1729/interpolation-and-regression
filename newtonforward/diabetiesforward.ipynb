{
 "cells": [
  {
   "cell_type": "code",
   "execution_count": 16,
   "metadata": {},
   "outputs": [],
   "source": [
    "import numpy as np\n",
    "import pandas as pd\n",
    "import datetime"
   ]
  },
  {
   "cell_type": "code",
   "execution_count": 20,
   "metadata": {},
   "outputs": [],
   "source": [
    "def u_call(u,n):\n",
    "    temp=u\n",
    "    for i in range(1,n):\n",
    "        temp=temp*(u-i)\n",
    "    return temp\n",
    "def fact(n):\n",
    "    f=1\n",
    "    for i in range(2,n+1):\n",
    "        f=f*i\n",
    "    return f\n",
    "n=9"
   ]
  },
  {
   "cell_type": "code",
   "execution_count": 27,
   "metadata": {},
   "outputs": [
    {
     "name": "stdout",
     "output_type": "stream",
     "text": [
      "15:09:49.24886915:09:49.27013315:09:49.28851415:09:49.30384015:09:49.31800615:09:49.33225115:09:49.34674315:09:49.36370715:09:49.37916515:09:49.39920715:09:49.41312415:09:49.42819515:09:49.44181115:09:49.45914715:09:49.48186815:09:49.49588615:09:49.51120015:09:49.52706915:09:49.54140815:09:49.55623415:09:49.57121715:09:49.58714015:09:49.60213815:09:49.61670515:09:49.63137815:09:49.64623615:09:49.66530815:09:49.68729215:09:49.70435215:09:49.71896715:09:49.73294215:09:49.74726915:09:49.76154415:09:49.77545015:09:49.78935715:09:49.806618"
     ]
    },
    {
     "ename": "IndexError",
     "evalue": "index 46 is out of bounds for axis 0 with size 46",
     "output_type": "error",
     "traceback": [
      "\u001b[0;31m---------------------------------------------------------------------------\u001b[0m",
      "\u001b[0;31mIndexError\u001b[0m                                Traceback (most recent call last)",
      "\u001b[0;32m<ipython-input-27-01e460c84fa3>\u001b[0m in \u001b[0;36m<module>\u001b[0;34m()\u001b[0m\n\u001b[1;32m      3\u001b[0m     \u001b[0ma\u001b[0m\u001b[0;34m=\u001b[0m\u001b[0mnp\u001b[0m\u001b[0;34m.\u001b[0m\u001b[0marray\u001b[0m\u001b[0;34m(\u001b[0m\u001b[0mdf\u001b[0m\u001b[0;34m)\u001b[0m\u001b[0;34m\u001b[0m\u001b[0m\n\u001b[1;32m      4\u001b[0m     \u001b[0mxlist\u001b[0m\u001b[0;34m=\u001b[0m\u001b[0mlist\u001b[0m\u001b[0;34m(\u001b[0m\u001b[0mrange\u001b[0m\u001b[0;34m(\u001b[0m\u001b[0;36m0\u001b[0m\u001b[0;34m,\u001b[0m\u001b[0;36m18\u001b[0m\u001b[0;34m,\u001b[0m\u001b[0;36m2\u001b[0m\u001b[0;34m)\u001b[0m\u001b[0;34m)\u001b[0m\u001b[0;34m\u001b[0m\u001b[0m\n\u001b[0;32m----> 5\u001b[0;31m     \u001b[0mylist\u001b[0m\u001b[0;34m=\u001b[0m\u001b[0ma\u001b[0m\u001b[0;34m[\u001b[0m\u001b[0ml\u001b[0m\u001b[0;34m,\u001b[0m\u001b[0;36m0\u001b[0m\u001b[0;34m:\u001b[0m\u001b[0;34m:\u001b[0m\u001b[0;36m2\u001b[0m\u001b[0;34m]\u001b[0m\u001b[0;34m\u001b[0m\u001b[0m\n\u001b[0m\u001b[1;32m      6\u001b[0m     \u001b[0mx\u001b[0m\u001b[0;34m=\u001b[0m\u001b[0mnp\u001b[0m\u001b[0;34m.\u001b[0m\u001b[0marray\u001b[0m\u001b[0;34m(\u001b[0m\u001b[0mxlist\u001b[0m\u001b[0;34m)\u001b[0m\u001b[0;34m\u001b[0m\u001b[0m\n\u001b[1;32m      7\u001b[0m     \u001b[0my\u001b[0m\u001b[0;34m=\u001b[0m\u001b[0mnp\u001b[0m\u001b[0;34m.\u001b[0m\u001b[0marray\u001b[0m\u001b[0;34m(\u001b[0m\u001b[0mylist\u001b[0m\u001b[0;34m)\u001b[0m\u001b[0;34m\u001b[0m\u001b[0m\n",
      "\u001b[0;31mIndexError\u001b[0m: index 46 is out of bounds for axis 0 with size 46"
     ]
    }
   ],
   "source": [
    "for l in range(10,60):\n",
    "    df=pd.read_excel(r'diabeties60.xlsx')\n",
    "    a=np.array(df)    \n",
    "    xlist=list(range(0,18,2))    \n",
    "    ylist=a[l,0::2]\n",
    "    x=np.array(xlist)\n",
    "    y=np.array(ylist)\n",
    "    y_mat=np.zeros((n,n),dtype=float)\n",
    "\n",
    "    for i in range(n):\n",
    "        y_mat[i][0]=float(y[i])\n",
    "\n",
    "    for i in range(1,n):\n",
    "        for j in range(n-i):\n",
    "            y_mat[j][i]=y_mat[j+1][i-1]-y_mat[j][i-1]\n",
    "\n",
    "\n",
    "    #lets consider that we want to know the value of x for y=32\n",
    "    b=[]\n",
    "    value=[0,1,3,5,7,9,11,13,15]\n",
    "    for i in value:\n",
    "        sum=y_mat[0][0]\n",
    "        u=(value-x[0])/(x[1]-x[0])\n",
    "        for i in range(1,n):\n",
    "            sum=sum+(u_call(u,i)*y_mat[0][i])/fact(i)\n",
    "    b.append(sum)\n",
    "    df = pd.DataFrame(b)\n",
    "    mod=pd.read_csv(r'li3.csv')\n",
    "    with open('li3.csv', 'a') as f:\n",
    "             (df).to_csv(f, header=False)\n",
    "    print(datetime.datetime.time(datetime.datetime.now()),end='')"
   ]
  },
  {
   "cell_type": "code",
   "execution_count": null,
   "metadata": {},
   "outputs": [],
   "source": []
  }
 ],
 "metadata": {
  "kernelspec": {
   "display_name": "Python 3",
   "language": "python",
   "name": "python3"
  },
  "language_info": {
   "codemirror_mode": {
    "name": "ipython",
    "version": 3
   },
   "file_extension": ".py",
   "mimetype": "text/x-python",
   "name": "python",
   "nbconvert_exporter": "python",
   "pygments_lexer": "ipython3",
   "version": "3.6.5"
  }
 },
 "nbformat": 4,
 "nbformat_minor": 2
}
