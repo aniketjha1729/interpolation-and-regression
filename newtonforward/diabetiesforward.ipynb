{
 "cells": [
  {
   "cell_type": "code",
   "execution_count": 1,
   "metadata": {},
   "outputs": [],
   "source": [
    "import numpy as np\n",
    "import pandas as pd\n",
    "import datetime"
   ]
  },
  {
   "cell_type": "code",
   "execution_count": 2,
   "metadata": {},
   "outputs": [],
   "source": [
    "def u_call(u,n):\n",
    "    temp=u\n",
    "    for i in range(1,n):\n",
    "        temp=temp*(u-i)\n",
    "    return temp\n",
    "def fact(n):\n",
    "    f=1\n",
    "    for i in range(2,n+1):\n",
    "        f=f*i\n",
    "    return f\n",
    "n=9"
   ]
  },
  {
   "cell_type": "code",
   "execution_count": 7,
   "metadata": {},
   "outputs": [
    {
     "data": {
      "text/plain": [
       "array([116, 284, 168, 188, 192, 306, 209, 223])"
      ]
     },
     "execution_count": 7,
     "metadata": {},
     "output_type": "execute_result"
    }
   ],
   "source": [
    "for l in range(2):\n",
    "    df=pd.read_excel(r'diabeties60.xlsx')\n",
    "    a=np.array(df)    \n",
    "    xlist=list(range(0,18,2))    \n",
    "    ylist=a[l,0::2]\n",
    "ylist\n",
    "#     x=np.array(xlist)\n",
    "#     y=np.array(ylist)\n",
    "#     y_mat=np.zeros((n,n),dtype=float)\n",
    "\n",
    "#     for i in range(n):\n",
    "#         y_mat[i][0]=float(y[i])\n",
    "\n",
    "#     for i in range(1,n):\n",
    "#         for j in range(n-i):\n",
    "#             y_mat[j][i]=y_mat[j+1][i-1]-y_mat[j][i-1]\n",
    "\n",
    "\n",
    "#     #lets consider that we want to know the value of x for y=32\n",
    "#     b=[]\n",
    "#     value=[0,1,3,5,7,9,11,13,15]\n",
    "#     for i in value:\n",
    "#         sum=y_mat[0][0]\n",
    "#         u=(value-x[0])/(x[1]-x[0])\n",
    "#         for i in range(1,n):\n",
    "#             sum=sum+(u_call(u,i)*y_mat[0][i])/fact(i)\n",
    "#     b.append(sum)\n",
    "#     df = pd.DataFrame(b)\n",
    "#     mod=pd.read_csv(r'li3.csv')\n",
    "#     with open('li3.csv', 'a') as f:\n",
    "#              (df).to_csv(f, header=False)\n",
    "#     print(datetime.datetime.time(datetime.datetime.now()),end='')"
   ]
  },
  {
   "cell_type": "code",
   "execution_count": null,
   "metadata": {},
   "outputs": [],
   "source": []
  }
 ],
 "metadata": {
  "kernelspec": {
   "display_name": "Python 3",
   "language": "python",
   "name": "python3"
  },
  "language_info": {
   "codemirror_mode": {
    "name": "ipython",
    "version": 3
   },
   "file_extension": ".py",
   "mimetype": "text/x-python",
   "name": "python",
   "nbconvert_exporter": "python",
   "pygments_lexer": "ipython3",
   "version": "3.6.5"
  }
 },
 "nbformat": 4,
 "nbformat_minor": 2
}
